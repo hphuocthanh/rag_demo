{
 "cells": [
  {
   "cell_type": "code",
   "execution_count": 11,
   "metadata": {},
   "outputs": [],
   "source": [
    "import re\n",
    "import os\n",
    "import PyPDF2\n",
    "from transformers import pipeline\n",
    "from langchain import PromptTemplate, LLMChain, OpenAI\n",
    "from langchain_community.embeddings import OllamaEmbeddings\n",
    "from langchain.vectorstores import FAISS\n",
    "from langchain.chains import RetrievalQA"
   ]
  },
  {
   "cell_type": "code",
   "execution_count": 22,
   "id": "9eb36b5f",
   "metadata": {},
   "outputs": [],
   "source": [
    "# Function to anonymize PII from the extracted text\n",
    "def anonymize_pii(text):\n",
    "    # Replace any patterns that resemble personal information\n",
    "    # text = re.sub(r'\\b(?:\\d{1,2}/\\d{1,2}/\\d{2,4}|\\d{4}[-/]\\d{2}[-/]\\d{2})\\b', '[REDACTED DATE]', text)  # Date of birth\n",
    "    # text = re.sub(r'\\b\\d{3}[-.\\s]?\\d{3}[-.\\s]?\\d{4}\\b', '[REDACTED PHONE]', text)  # Phone numbers\n",
    "    # text = re.sub(r'\\b[A-Za-z0-9._%+-]+@[A-Za-z0-9.-]+\\.[A-Z|a-z]{2,}\\b', '[REDACTED EMAIL]', text)  # Emails\n",
    "    # text = re.sub(r'\\b\\d{4}\\b', '[REDACTED YEAR]', text)  # Years\n",
    "    # text = re.sub(r'\\b[A-Z][a-z]+\\b', '[REDACTED NAME]', text)  # Names (very basic)\n",
    "    return text\n",
    "\n",
    "# Function to extract text from PDF\n",
    "def extract_text_from_pdf(pdf_path):\n",
    "    with open(pdf_path, 'rb') as file:\n",
    "        reader = PyPDF2.PdfReader(file)\n",
    "        text = \"\"\n",
    "        for page in reader.pages:\n",
    "            text += page.extract_text()\n",
    "    return anonymize_pii(text)\n",
    "\n",
    "# Extracting text from all PDFs in a directory\n",
    "pdf_dir = './data/'\n",
    "documents = []"
   ]
  },
  {
   "cell_type": "code",
   "execution_count": 8,
   "id": "bb8348c7",
   "metadata": {},
   "outputs": [],
   "source": [
    "from langchain_core.documents import Document\n"
   ]
  },
  {
   "cell_type": "code",
   "execution_count": 23,
   "id": "e3950efd",
   "metadata": {},
   "outputs": [],
   "source": [
    "for filename in os.listdir(pdf_dir):\n",
    "    if filename.endswith('.pdf'):\n",
    "        text = extract_text_from_pdf(os.path.join(pdf_dir, filename))\n",
    "        documents.append(Document(page_content=text))\n",
    "\n",
    "# Step 1: Create embeddings for the documents\n",
    "embedding_model = OllamaEmbeddings(model=\"llama3.1\")\n",
    "docsearch = FAISS.from_documents(documents, embedding_model)"
   ]
  },
  {
   "cell_type": "code",
   "execution_count": 18,
   "id": "8fa36967",
   "metadata": {},
   "outputs": [],
   "source": [
    "from langchain_community.llms import Ollama\n",
    "llm = Ollama(model=\"llama3.1\")"
   ]
  },
  {
   "cell_type": "code",
   "execution_count": 24,
   "id": "3018777b",
   "metadata": {},
   "outputs": [
    {
     "name": "stdout",
     "output_type": "stream",
     "text": [
      "{'query': 'Show me any information about the medical data that was collected.', 'result': 'Based on the provided context, here is the medical data that was collected:\\n\\n**No pre-existing medical conditions were reported**\\n\\nHowever, it\\'s worth noting that the following questions had a \"N/A\" (Not Applicable) response:\\n\\n1. Have you had a full medical clearance for any injury identified in questions 1 to 5? N/A\\n\\nThis suggests that John Doe has not been involved in any motor vehicle accidents or other incidents that would require a full medical clearance.\\n\\n**No health conditions were reported**\\n\\nJohn Doe answered \"no\" to all the health condition questions, such as:\\n\\n* Lower back, neck or thoracic spinal pain\\n* Sciatica\\n* Wrist or elbow pain or weakness\\n* And many others (listed in Part C: Health Conditions)\\n\\nThis implies that he does not have any pre-existing medical conditions that could impact his ability to work as a Registered Nurse.', 'source_documents': [Document(page_content='Pre-Employment Health Assessment\\nPART A: PERSONAL DETAILS\\nSurname: Doe\\nFirst Name: John\\nDate of Birth: 01/15/1998\\nGender: Male\\nAddress: 1234 Health Street, Sydney, NSW, 2000\\nPhone No (Mobile): +61 400 123 456\\nEmail: john.doe@example.com\\nPresent Employee of NNSWLHN: No\\nPART B: POSITION DETAILS\\nPosition Applied For: Registered Nurse\\nRecruitment No: 56789\\nHospital/Facility: Northern NSW LHD\\nWard/Dept: Emergency Department\\nPART C: GENERAL HEALTH SCREENING\\n1. Have you been involved in any motor vehicle accidents resulting in personal injury? No\\n2. Have you ever lodged a claim for workers compensation? No\\n3. Have you suffered back pain or strain injury (including back surgery)? No\\n4. Have you suffered from shoulder, neck or arm pain or strain? No\\n5. Have you suffered from hip, knee or ankle pain? No\\n6. Have you had a full medical clearance for any injury identified in questions 1 to 5? N/A7. Are you receiving any ongoing treatment for injuries identified in questions 1 to 5? No\\n8. Do you suffer from any medical condition (including physical, psychiatric, psychological) for which you are\\nreceiving treatment? No\\nHealth Conditions\\n- Lower back, neck or thoracic spinal pain? No\\n- Sciatica? No\\n- Wrist or elbow pain or weakness? No\\n- Tenosynovitis, carpal tunnel or RSI? No\\n- Arthritis, rheumatism or painful joints? No\\n- Broken bones or torn cartilage? No\\n- Scars/deformations? No\\n- Hernia? No\\n- Diabetes? No\\n- Epilepsy, dizzy spells, or neurological disorder? No\\n- Mental health condition? No\\n- High blood pressure, chest pain or circulatory trouble? No\\n- Asthma or chronic bronchitis? No\\n- Autoimmune disease? No\\n- Nail or chronic skin infections? No\\n- Eczema, dermatitis or skin rashes? No\\n- Latex allergy? No\\n- Allergic reactions to medicines or foods? No\\n- Vision or hearing problems? No\\n- Other serious illness? No- Health problems related to previous employment? No\\nPART D: PAST OCCUPATIONAL EXPOSURES\\n- Cytotoxics: No\\n- Glutaraldehyde: No\\n- Ethylene Oxide: No\\n- Asbestos: No\\n- Pesticides: No\\n- Lead: No\\n- Solvents: No\\n- Excessive noise: No\\n- Previous hearing testing: No\\n- Previous health screening for asbestos: No\\nPART E: HEALTH DECLARATION\\nI hereby declare that the above statements and answers are true and correct to the best of my knowledge. I\\nhave read the inherent requirements for the position I am applying for and I understand and can fulfill these\\nrequirements. Yes\\nI agree to the release of medical information to my prospective employer that directly relates to my ability to\\ncarry out the tasks adequately and safely in this position. Yes\\nI am aware that any false or misleading statements may impact on my appointment or continued employment\\nwith Northern NSW Local Health Network. YesPrint Name: John Doe\\nSignature of Applicant: ___________________________\\nDate: 08/26/2024')]}\n"
     ]
    }
   ],
   "source": [
    "# Step 3: Create a RetrievalQA chain using the local LLM\n",
    "qa_chain = RetrievalQA.from_chain_type(\n",
    "    llm=llm,\n",
    "    chain_type=\"stuff\",\n",
    "    retriever=docsearch.as_retriever(),\n",
    "    return_source_documents=True\n",
    ")\n",
    "\n",
    "# Step 4: Define a query\n",
    "query = \"Show me any information about the medical data that was collected.\"\n",
    "\n",
    "# Step 5: Run the query\n",
    "result = qa_chain({ \"query\": query })\n",
    "print(result)"
   ]
  },
  {
   "cell_type": "code",
   "execution_count": 25,
   "id": "7094d0a9",
   "metadata": {},
   "outputs": [
    {
     "name": "stdout",
     "output_type": "stream",
     "text": [
      "{'query': 'Show me any information related to back pain.', 'result': 'Here is the relevant information:\\n\\nPART C: GENERAL HEALTH SCREENING\\n\\n3. Have you suffered back pain or strain injury (including back surgery)? No\\n\\nHealth Conditions\\n- Lower back, neck or thoracic spinal pain? No', 'source_documents': [Document(page_content='Pre-Employment Health Assessment\\nPART A: PERSONAL DETAILS\\nSurname: Doe\\nFirst Name: John\\nDate of Birth: 01/15/1998\\nGender: Male\\nAddress: 1234 Health Street, Sydney, NSW, 2000\\nPhone No (Mobile): +61 400 123 456\\nEmail: john.doe@example.com\\nPresent Employee of NNSWLHN: No\\nPART B: POSITION DETAILS\\nPosition Applied For: Registered Nurse\\nRecruitment No: 56789\\nHospital/Facility: Northern NSW LHD\\nWard/Dept: Emergency Department\\nPART C: GENERAL HEALTH SCREENING\\n1. Have you been involved in any motor vehicle accidents resulting in personal injury? No\\n2. Have you ever lodged a claim for workers compensation? No\\n3. Have you suffered back pain or strain injury (including back surgery)? No\\n4. Have you suffered from shoulder, neck or arm pain or strain? No\\n5. Have you suffered from hip, knee or ankle pain? No\\n6. Have you had a full medical clearance for any injury identified in questions 1 to 5? N/A7. Are you receiving any ongoing treatment for injuries identified in questions 1 to 5? No\\n8. Do you suffer from any medical condition (including physical, psychiatric, psychological) for which you are\\nreceiving treatment? No\\nHealth Conditions\\n- Lower back, neck or thoracic spinal pain? No\\n- Sciatica? No\\n- Wrist or elbow pain or weakness? No\\n- Tenosynovitis, carpal tunnel or RSI? No\\n- Arthritis, rheumatism or painful joints? No\\n- Broken bones or torn cartilage? No\\n- Scars/deformations? No\\n- Hernia? No\\n- Diabetes? No\\n- Epilepsy, dizzy spells, or neurological disorder? No\\n- Mental health condition? No\\n- High blood pressure, chest pain or circulatory trouble? No\\n- Asthma or chronic bronchitis? No\\n- Autoimmune disease? No\\n- Nail or chronic skin infections? No\\n- Eczema, dermatitis or skin rashes? No\\n- Latex allergy? No\\n- Allergic reactions to medicines or foods? No\\n- Vision or hearing problems? No\\n- Other serious illness? No- Health problems related to previous employment? No\\nPART D: PAST OCCUPATIONAL EXPOSURES\\n- Cytotoxics: No\\n- Glutaraldehyde: No\\n- Ethylene Oxide: No\\n- Asbestos: No\\n- Pesticides: No\\n- Lead: No\\n- Solvents: No\\n- Excessive noise: No\\n- Previous hearing testing: No\\n- Previous health screening for asbestos: No\\nPART E: HEALTH DECLARATION\\nI hereby declare that the above statements and answers are true and correct to the best of my knowledge. I\\nhave read the inherent requirements for the position I am applying for and I understand and can fulfill these\\nrequirements. Yes\\nI agree to the release of medical information to my prospective employer that directly relates to my ability to\\ncarry out the tasks adequately and safely in this position. Yes\\nI am aware that any false or misleading statements may impact on my appointment or continued employment\\nwith Northern NSW Local Health Network. YesPrint Name: John Doe\\nSignature of Applicant: ___________________________\\nDate: 08/26/2024')]}\n"
     ]
    }
   ],
   "source": [
    "# Step 4: Define a query\n",
    "query = \"Show me any information related to back pain.\"\n",
    "\n",
    "# Step 5: Run the query\n",
    "result = qa_chain({ \"query\": query })\n",
    "print(result)"
   ]
  },
  {
   "cell_type": "code",
   "execution_count": null,
   "id": "0537bd8f",
   "metadata": {},
   "outputs": [],
   "source": []
  }
 ],
 "metadata": {
  "kernelspec": {
   "display_name": "998",
   "language": "python",
   "name": "python3"
  },
  "language_info": {
   "codemirror_mode": {
    "name": "ipython",
    "version": 3
   },
   "file_extension": ".py",
   "mimetype": "text/x-python",
   "name": "python",
   "nbconvert_exporter": "python",
   "pygments_lexer": "ipython3",
   "version": "3.11.9"
  }
 },
 "nbformat": 4,
 "nbformat_minor": 5
}
