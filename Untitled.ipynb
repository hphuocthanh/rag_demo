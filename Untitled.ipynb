{
 "cells": [
  {
   "cell_type": "code",
   "execution_count": 55,
   "id": "094131f3",
   "metadata": {},
   "outputs": [],
   "source": [
    "import re\n",
    "import os\n",
    "import PyPDF2\n",
    "from transformers import pipeline\n",
    "from langchain import PromptTemplate, LLMChain, OpenAI\n",
    "from langchain_community.embeddings import OllamaEmbeddings\n",
    "from langchain.vectorstores import FAISS\n",
    "from langchain.chains import RetrievalQA\n",
    "from langchain_experimental.data_anonymizer import PresidioAnonymizer\n",
    "from langchain_core.documents import Document"
   ]
  },
  {
   "cell_type": "code",
   "execution_count": 65,
   "id": "154ae0f1-7bd2-4e4c-b094-fc4fb09f6448",
   "metadata": {},
   "outputs": [],
   "source": [
    "from presidio_anonymizer.entities import OperatorConfig\n",
    "\n",
    "anonymizer = PresidioAnonymizer(analyzed_fields=[\"PERSON\", \"PHONE_NUMBER\", \"EMAIL_ADDRESS\"],\n",
    "    operators={\n",
    "        \"PERSON\": OperatorConfig(\"redact\", {}),\n",
    "        \"PHONE_NUMBER\": OperatorConfig(\"redact\", {}),\n",
    "        \"EMAIL_ADDRESS\": OperatorConfig(\"redact\", {}),\n",
    "    })"
   ]
  },
  {
   "cell_type": "code",
   "execution_count": 66,
   "id": "9eb36b5f",
   "metadata": {},
   "outputs": [],
   "source": [
    "# Function to anonymize PII from the extracted text\n",
    "def anonymize_pii(text):\n",
    "    return anonymizer.anonymize(text)\n",
    "\n",
    "# Function to extract text from PDF\n",
    "def extract_text_from_pdf(pdf_path):\n",
    "    with open(pdf_path, 'rb') as file:\n",
    "        reader = PyPDF2.PdfReader(file)\n",
    "        text = \"\"\n",
    "        for page in reader.pages:\n",
    "            text += page.extract_text()\n",
    "    return anonymize_pii(text)\n",
    "\n",
    "# Extracting text from all PDFs in a directory\n",
    "pdf_dir = './data/'\n",
    "documents = []"
   ]
  },
  {
   "cell_type": "code",
   "execution_count": 67,
   "id": "e3950efd",
   "metadata": {},
   "outputs": [],
   "source": [
    "for filename in os.listdir(pdf_dir):\n",
    "    if filename.endswith('.pdf'):\n",
    "        text = extract_text_from_pdf(os.path.join(pdf_dir, filename))\n",
    "        documents.append(Document(page_content=text))\n",
    "\n",
    "# Step 1: Create embeddings for the documents\n",
    "embedding_model = OllamaEmbeddings(model=\"llama3.1\")\n",
    "docsearch = FAISS.from_documents(documents, embedding_model)"
   ]
  },
  {
   "cell_type": "code",
   "execution_count": 68,
   "id": "8fa36967",
   "metadata": {},
   "outputs": [],
   "source": [
    "from langchain_community.llms import Ollama\n",
    "llm = Ollama(model=\"llama3.1\")"
   ]
  },
  {
   "cell_type": "code",
   "execution_count": 73,
   "id": "72c87812-5daa-4370-bf4b-e54492cd55de",
   "metadata": {},
   "outputs": [],
   "source": [
    "from langchain_core.prompts import PromptTemplate\n",
    "\n",
    "prompt_template = PromptTemplate(\n",
    "    input_variables=[\"context\", \"question\"],\n",
    "    template=\"\"\"\n",
    "You are an assistant that helps users with their medical analysis. The following context may contain sensitive information. Ensure that your response does not include any Personally Identifiable Information (PII) such as names, phone numbers, email addresses.\n",
    "\n",
    "Context: {context}\n",
    "Query: {question}\n",
    "\n",
    "Provide a safe and anonymized response that answers the query while respecting privacy guidelines.\n",
    "\"\"\"\n",
    ")"
   ]
  },
  {
   "cell_type": "code",
   "execution_count": 74,
   "id": "3018777b",
   "metadata": {},
   "outputs": [],
   "source": [
    "# Step 3: Create a RetrievalQA chain using the local LLM\n",
    "qa_chain = RetrievalQA.from_chain_type(\n",
    "    llm=llm,\n",
    "    chain_type=\"stuff\",\n",
    "    retriever=docsearch.as_retriever(),\n",
    "    chain_type_kwargs={\"prompt\": prompt_template}\n",
    ")\n",
    "\n",
    "# # Step 4: Define a query\n",
    "# query = \"Show me any information about the medical data that was collected.\"\n",
    "\n",
    "# # Step 5: Run the query\n",
    "# result = qa_chain({ \"query\": query })\n",
    "# print(result)"
   ]
  },
  {
   "cell_type": "code",
   "execution_count": 75,
   "id": "7094d0a9",
   "metadata": {},
   "outputs": [
    {
     "name": "stdout",
     "output_type": "stream",
     "text": [
      "I cannot provide medical information about a specific person. If you would like, I can help answer general questions or discuss common topics related to back pain. Would that be helpful?\n"
     ]
    }
   ],
   "source": [
    "# Step 4: Define a query\n",
    "query = \"Show me any information related to back pain of John Doe.\"\n",
    "\n",
    "# Step 5: Run the query\n",
    "result = qa_chain({ \"query\": query })\n",
    "print(result['result'])"
   ]
  },
  {
   "cell_type": "code",
   "execution_count": 24,
   "id": "ca17f895-89ef-41e6-982e-6f17e7996fc1",
   "metadata": {},
   "outputs": [],
   "source": [
    "import nest_asyncio\n",
    "\n",
    "nest_asyncio.apply()"
   ]
  },
  {
   "cell_type": "code",
   "execution_count": 35,
   "id": "0537bd8f",
   "metadata": {},
   "outputs": [],
   "source": [
    "from nemoguardrails import RailsConfig, LLMRails\n",
    "from nemoguardrails.integrations.langchain.runnable_rails import RunnableRails\n",
    "\n",
    "config = RailsConfig.from_path(\"./guardrails\")\n",
    "app = LLMRails(config,llm=llm)\n"
   ]
  },
  {
   "cell_type": "code",
   "execution_count": 46,
   "id": "473e3a24-0ff2-4f71-a18b-c1d385b7f9c2",
   "metadata": {},
   "outputs": [],
   "source": [
    "app.register_action(qa_chain, name=\"qa_chain\")"
   ]
  },
  {
   "cell_type": "code",
   "execution_count": 76,
   "id": "e3e2c9b4-9f1a-463f-9086-57b33fe1ced4",
   "metadata": {},
   "outputs": [
    {
     "name": "stdout",
     "output_type": "stream",
     "text": [
      "Based on the provided context, I can show you the relevant information from PART C: GENERAL HEALTH SCREENING without revealing any Personally Identifiable Information (PII).\n",
      "\n",
      "Here is the extracted information:\n",
      "\n",
      "1. Have you been involved in any motor vehicle accidents resulting in personal injury? No\n",
      "2. Have you ever lodged a claim for workers compensation? No\n",
      "3. Have you suffered back pain or strain injury (including back surgery)? No\n",
      "4. Have you suffered from shoulder, neck or arm pain or strain? No\n",
      "5. Have you suffered from hip, knee or ankle pain? No\n",
      "6. Have you had a full medical clearance for any injury identified in questions 1 to 5? N/A\n",
      "7. Are you receiving any ongoing treatment for injuries identified in questions 1 to 5? No\n",
      "8. Do you suffer from any medical condition (including physical, psychiatric, psychological) for which you are receiving treatment? No\n",
      "\n",
      "Health Conditions:\n",
      "- Lower back, neck or thoracic spinal pain? No\n",
      "- Sciatica? No\n",
      "- Wrist or elbow pain or weakness? No\n",
      "- Tenosynovitis, carpal tunnel or RSI? No\n",
      "- Arthritis, rheumatism or painful joints? No\n",
      "- Broken bones or torn cartilage? No\n",
      "- Scars/deformations? No\n",
      "- Hernia? No\n",
      "- Diabetes? No\n",
      "- Epilepsy, dizzy spells, or neurological disorder? No\n",
      "- Mental health condition? No\n",
      "- High blood pressure, chest pain or circulatory trouble? No\n",
      "- Asthma or chronic bronchitis? No\n",
      "- Autoimmune disease? No\n",
      "- Nail or chronic skin infections? No\n",
      "- Eczema, dermatitis or skin rashes? No\n",
      "- Latex allergy? No\n",
      "- Allergic reactions to medicines or foods? No\n",
      "- Vision or hearing problems? No\n",
      "- Other serious illness? No\n",
      "- Health problems related to previous employment? No\n",
      "\n",
      "I have removed all PII from the response while providing the relevant information.\n"
     ]
    }
   ],
   "source": [
    "# Step 4: Define a query\n",
    "query = \"Show me any information related to  GENERAL HEALTH SCREENING in Pre-Employment Health Assessment.\"\n",
    "\n",
    "# Step 5: Run the query\n",
    "result = qa_chain({ \"query\": query })\n",
    "print(result['result'])"
   ]
  },
  {
   "cell_type": "code",
   "execution_count": 50,
   "id": "b9e49fdd-63d2-4d9a-8bb5-2fd77e2629cf",
   "metadata": {},
   "outputs": [
    {
     "name": "stdout",
     "output_type": "stream",
     "text": [
      "I'd be happy to help you with that! General health screening is a crucial component of pre-employment health assessments, and it's typically conducted by healthcare professionals. The process usually involves a thorough medical examination, review of past medical history, and laboratory tests to identify any underlying conditions that may affect an individual's ability to perform their job duties. However, I need more specific information about the type of screening you're looking for, such as the industry or occupation, in order to provide more tailored results.\n"
     ]
    }
   ],
   "source": [
    "# mode == \"chain_with_guardrails\":\n",
    "history = [{\"role\": \"user\", \"content\": query}]\n",
    "#\n",
    "result = await app.generate_async(messages=history)\n",
    "print(result['content'])"
   ]
  },
  {
   "cell_type": "code",
   "execution_count": null,
   "id": "e14d5da3-9d32-463e-b96d-8002c1584d53",
   "metadata": {},
   "outputs": [],
   "source": []
  }
 ],
 "metadata": {
  "kernelspec": {
   "display_name": "Python 3 (ipykernel)",
   "language": "python",
   "name": "python3"
  },
  "language_info": {
   "codemirror_mode": {
    "name": "ipython",
    "version": 3
   },
   "file_extension": ".py",
   "mimetype": "text/x-python",
   "name": "python",
   "nbconvert_exporter": "python",
   "pygments_lexer": "ipython3",
   "version": "3.11.9"
  }
 },
 "nbformat": 4,
 "nbformat_minor": 5
}
