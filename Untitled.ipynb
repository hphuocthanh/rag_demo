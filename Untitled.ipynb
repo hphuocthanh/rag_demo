{
 "cells": [
  {
   "cell_type": "code",
   "execution_count": 1,
   "id": "094131f3",
   "metadata": {},
   "outputs": [
    {
     "name": "stderr",
     "output_type": "stream",
     "text": [
      "None of PyTorch, TensorFlow >= 2.0, or Flax have been found. Models won't be available and only tokenizers, configuration and file/data utilities can be used.\n"
     ]
    }
   ],
   "source": [
    "import re\n",
    "import os\n",
    "import PyPDF2\n",
    "from transformers import pipeline\n",
    "from langchain import PromptTemplate, LLMChain, OpenAI\n",
    "from langchain_community.embeddings import OllamaEmbeddings\n",
    "from langchain.vectorstores import FAISS\n",
    "from langchain.chains import RetrievalQA"
   ]
  },
  {
   "cell_type": "code",
   "execution_count": 2,
   "id": "9eb36b5f",
   "metadata": {},
   "outputs": [],
   "source": [
    "# Function to anonymize PII from the extracted text\n",
    "def anonymize_pii(text):\n",
    "    # Replace any patterns that resemble personal information\n",
    "    # text = re.sub(r'\\b(?:\\d{1,2}/\\d{1,2}/\\d{2,4}|\\d{4}[-/]\\d{2}[-/]\\d{2})\\b', '[REDACTED DATE]', text)  # Date of birth\n",
    "    # text = re.sub(r'\\b\\d{3}[-.\\s]?\\d{3}[-.\\s]?\\d{4}\\b', '[REDACTED PHONE]', text)  # Phone numbers\n",
    "    # text = re.sub(r'\\b[A-Za-z0-9._%+-]+@[A-Za-z0-9.-]+\\.[A-Z|a-z]{2,}\\b', '[REDACTED EMAIL]', text)  # Emails\n",
    "    # text = re.sub(r'\\b\\d{4}\\b', '[REDACTED YEAR]', text)  # Years\n",
    "    # text = re.sub(r'\\b[A-Z][a-z]+\\b', '[REDACTED NAME]', text)  # Names (very basic)\n",
    "    return text\n",
    "\n",
    "# Function to extract text from PDF\n",
    "def extract_text_from_pdf(pdf_path):\n",
    "    with open(pdf_path, 'rb') as file:\n",
    "        reader = PyPDF2.PdfReader(file)\n",
    "        text = \"\"\n",
    "        for page in reader.pages:\n",
    "            text += page.extract_text()\n",
    "    return anonymize_pii(text)\n",
    "\n",
    "# Extracting text from all PDFs in a directory\n",
    "pdf_dir = './data/'\n",
    "documents = []"
   ]
  },
  {
   "cell_type": "code",
   "execution_count": 3,
   "id": "bb8348c7",
   "metadata": {},
   "outputs": [],
   "source": [
    "from langchain_core.documents import Document\n"
   ]
  },
  {
   "cell_type": "code",
   "execution_count": 4,
   "id": "e3950efd",
   "metadata": {},
   "outputs": [],
   "source": [
    "for filename in os.listdir(pdf_dir):\n",
    "    if filename.endswith('.pdf'):\n",
    "        text = extract_text_from_pdf(os.path.join(pdf_dir, filename))\n",
    "        documents.append(Document(page_content=text))\n",
    "\n",
    "# Step 1: Create embeddings for the documents\n",
    "embedding_model = OllamaEmbeddings(model=\"llama3.1\")\n",
    "docsearch = FAISS.from_documents(documents, embedding_model)"
   ]
  },
  {
   "cell_type": "code",
   "execution_count": 5,
   "id": "8fa36967",
   "metadata": {},
   "outputs": [],
   "source": [
    "from langchain_community.llms import Ollama\n",
    "llm = Ollama(model=\"llama3.1\")"
   ]
  },
  {
   "cell_type": "code",
   "execution_count": 45,
   "id": "3018777b",
   "metadata": {},
   "outputs": [],
   "source": [
    "# Step 3: Create a RetrievalQA chain using the local LLM\n",
    "qa_chain = RetrievalQA.from_chain_type(\n",
    "    llm=llm,\n",
    "    chain_type=\"stuff\",\n",
    "    retriever=docsearch.as_retriever(),\n",
    ")\n",
    "\n",
    "# # Step 4: Define a query\n",
    "# query = \"Show me any information about the medical data that was collected.\"\n",
    "\n",
    "# # Step 5: Run the query\n",
    "# result = qa_chain({ \"query\": query })\n",
    "# print(result)"
   ]
  },
  {
   "cell_type": "code",
   "execution_count": 7,
   "id": "7094d0a9",
   "metadata": {},
   "outputs": [
    {
     "name": "stdout",
     "output_type": "stream",
     "text": [
      "{'query': 'Show me any information related to back pain.', 'result': 'Here is the relevant information:\\n\\n**PART C: GENERAL HEALTH SCREENING**\\n\\n1. Have you been involved in any motor vehicle accidents resulting in personal injury? No\\n2. (skipped)\\n3. **Have you suffered back pain or strain injury (including back surgery)? No**\\n4. (skipped)\\n5. (skipped)\\n\\nSo, according to this form, John Doe has not reported any history of back pain or strain injury.', 'source_documents': [Document(page_content='Pre-Employment Health Assessment\\nPART A: PERSONAL DETAILS\\nSurname: Doe\\nFirst Name: John\\nDate of Birth: 01/15/1998\\nGender: Male\\nAddress: 1234 Health Street, Sydney, NSW, 2000\\nPhone No (Mobile): +61 400 123 456\\nEmail: john.doe@example.com\\nPresent Employee of NNSWLHN: No\\nPART B: POSITION DETAILS\\nPosition Applied For: Registered Nurse\\nRecruitment No: 56789\\nHospital/Facility: Northern NSW LHD\\nWard/Dept: Emergency Department\\nPART C: GENERAL HEALTH SCREENING\\n1. Have you been involved in any motor vehicle accidents resulting in personal injury? No\\n2. Have you ever lodged a claim for workers compensation? No\\n3. Have you suffered back pain or strain injury (including back surgery)? No\\n4. Have you suffered from shoulder, neck or arm pain or strain? No\\n5. Have you suffered from hip, knee or ankle pain? No\\n6. Have you had a full medical clearance for any injury identified in questions 1 to 5? N/A7. Are you receiving any ongoing treatment for injuries identified in questions 1 to 5? No\\n8. Do you suffer from any medical condition (including physical, psychiatric, psychological) for which you are\\nreceiving treatment? No\\nHealth Conditions\\n- Lower back, neck or thoracic spinal pain? No\\n- Sciatica? No\\n- Wrist or elbow pain or weakness? No\\n- Tenosynovitis, carpal tunnel or RSI? No\\n- Arthritis, rheumatism or painful joints? No\\n- Broken bones or torn cartilage? No\\n- Scars/deformations? No\\n- Hernia? No\\n- Diabetes? No\\n- Epilepsy, dizzy spells, or neurological disorder? No\\n- Mental health condition? No\\n- High blood pressure, chest pain or circulatory trouble? No\\n- Asthma or chronic bronchitis? No\\n- Autoimmune disease? No\\n- Nail or chronic skin infections? No\\n- Eczema, dermatitis or skin rashes? No\\n- Latex allergy? No\\n- Allergic reactions to medicines or foods? No\\n- Vision or hearing problems? No\\n- Other serious illness? No- Health problems related to previous employment? No\\nPART D: PAST OCCUPATIONAL EXPOSURES\\n- Cytotoxics: No\\n- Glutaraldehyde: No\\n- Ethylene Oxide: No\\n- Asbestos: No\\n- Pesticides: No\\n- Lead: No\\n- Solvents: No\\n- Excessive noise: No\\n- Previous hearing testing: No\\n- Previous health screening for asbestos: No\\nPART E: HEALTH DECLARATION\\nI hereby declare that the above statements and answers are true and correct to the best of my knowledge. I\\nhave read the inherent requirements for the position I am applying for and I understand and can fulfill these\\nrequirements. Yes\\nI agree to the release of medical information to my prospective employer that directly relates to my ability to\\ncarry out the tasks adequately and safely in this position. Yes\\nI am aware that any false or misleading statements may impact on my appointment or continued employment\\nwith Northern NSW Local Health Network. YesPrint Name: John Doe\\nSignature of Applicant: ___________________________\\nDate: 08/26/2024')]}\n"
     ]
    }
   ],
   "source": [
    "# Step 4: Define a query\n",
    "query = \"Show me any information related to back pain.\"\n",
    "\n",
    "# Step 5: Run the query\n",
    "result = qa_chain({ \"query\": query })\n",
    "print(result['result'])"
   ]
  },
  {
   "cell_type": "code",
   "execution_count": 24,
   "id": "ca17f895-89ef-41e6-982e-6f17e7996fc1",
   "metadata": {},
   "outputs": [],
   "source": [
    "import nest_asyncio\n",
    "\n",
    "nest_asyncio.apply()"
   ]
  },
  {
   "cell_type": "code",
   "execution_count": 35,
   "id": "0537bd8f",
   "metadata": {},
   "outputs": [],
   "source": [
    "from nemoguardrails import RailsConfig, LLMRails\n",
    "from nemoguardrails.integrations.langchain.runnable_rails import RunnableRails\n",
    "\n",
    "config = RailsConfig.from_path(\"./guardrails\")\n",
    "app = LLMRails(config,llm=llm)\n"
   ]
  },
  {
   "cell_type": "code",
   "execution_count": 46,
   "id": "473e3a24-0ff2-4f71-a18b-c1d385b7f9c2",
   "metadata": {},
   "outputs": [],
   "source": [
    "app.register_action(qa_chain, name=\"qa_chain\")"
   ]
  },
  {
   "cell_type": "code",
   "execution_count": 49,
   "id": "e3e2c9b4-9f1a-463f-9086-57b33fe1ced4",
   "metadata": {},
   "outputs": [
    {
     "name": "stdout",
     "output_type": "stream",
     "text": [
      "Here is the information related to GENERAL HEALTH SCREENING from Part C:\n",
      "\n",
      "**1. Have you been involved in any motor vehicle accidents resulting in personal injury?**\n",
      "No\n",
      "\n",
      "**2. Have you ever lodged a claim for workers compensation?**\n",
      "No\n",
      "\n",
      "**3. Have you suffered back pain or strain injury (including back surgery)?**\n",
      "No\n",
      "\n",
      "**4. Have you suffered from shoulder, neck or arm pain or strain?**\n",
      "No\n",
      "\n",
      "**5. Have you suffered from hip, knee or ankle pain?**\n",
      "No\n",
      "\n",
      "**6. Have you had a full medical clearance for any injury identified in questions 1 to 5?**\n",
      "N/A\n",
      "\n",
      "**7. Are you receiving any ongoing treatment for injuries identified in questions 1 to 5?**\n",
      "No\n",
      "\n",
      "**8. Do you suffer from any medical condition (including physical, psychiatric, psychological) for which you are receiving treatment?**\n",
      "No\n"
     ]
    }
   ],
   "source": [
    "# Step 4: Define a query\n",
    "query = \"Show me any information related to  GENERAL HEALTH SCREENING in Pre-Employment Health Assessment.\"\n",
    "\n",
    "# Step 5: Run the query\n",
    "result = qa_chain({ \"query\": query })\n",
    "print(result['result'])"
   ]
  },
  {
   "cell_type": "code",
   "execution_count": 50,
   "id": "b9e49fdd-63d2-4d9a-8bb5-2fd77e2629cf",
   "metadata": {},
   "outputs": [
    {
     "name": "stdout",
     "output_type": "stream",
     "text": [
      "I'd be happy to help you with that! General health screening is a crucial component of pre-employment health assessments, and it's typically conducted by healthcare professionals. The process usually involves a thorough medical examination, review of past medical history, and laboratory tests to identify any underlying conditions that may affect an individual's ability to perform their job duties. However, I need more specific information about the type of screening you're looking for, such as the industry or occupation, in order to provide more tailored results.\n"
     ]
    }
   ],
   "source": [
    "# mode == \"chain_with_guardrails\":\n",
    "history = [{\"role\": \"user\", \"content\": query}]\n",
    "#\n",
    "result = await app.generate_async(messages=history)\n",
    "print(result['content'])"
   ]
  },
  {
   "cell_type": "code",
   "execution_count": null,
   "id": "e14d5da3-9d32-463e-b96d-8002c1584d53",
   "metadata": {},
   "outputs": [],
   "source": []
  }
 ],
 "metadata": {
  "kernelspec": {
   "display_name": "Python 3 (ipykernel)",
   "language": "python",
   "name": "python3"
  },
  "language_info": {
   "codemirror_mode": {
    "name": "ipython",
    "version": 3
   },
   "file_extension": ".py",
   "mimetype": "text/x-python",
   "name": "python",
   "nbconvert_exporter": "python",
   "pygments_lexer": "ipython3",
   "version": "3.11.9"
  }
 },
 "nbformat": 4,
 "nbformat_minor": 5
}
